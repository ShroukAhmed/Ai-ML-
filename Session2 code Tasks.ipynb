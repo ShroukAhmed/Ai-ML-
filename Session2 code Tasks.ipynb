{
 "cells": [
  {
   "cell_type": "markdown",
   "id": "71b93b68",
   "metadata": {},
   "source": [
    "### Task 1: write a password without appearing"
   ]
  },
  {
   "cell_type": "code",
   "execution_count": 4,
   "id": "5b887934",
   "metadata": {},
   "outputs": [
    {
     "name": "stdout",
     "output_type": "stream",
     "text": [
      "Enter Password: ***********\n",
      "Password is :  hello world\n"
     ]
    }
   ],
   "source": [
    "import maskpass\n",
    "\n",
    "pwd = maskpass.advpass() #default * masking\n",
    "print('Password is : ', pwd)"
   ]
  },
  {
   "cell_type": "markdown",
   "id": "18069b5f",
   "metadata": {},
   "source": [
    "### Task 3: A way to do a do while loop but in python\n"
   ]
  },
  {
   "cell_type": "code",
   "execution_count": 7,
   "id": "56c3241a",
   "metadata": {},
   "outputs": [
    {
     "name": "stdout",
     "output_type": "stream",
     "text": [
      "say hello! hello\n"
     ]
    }
   ],
   "source": [
    "input_i = \"hello\"\n",
    "i = 0\n",
    "\n",
    "while True:\n",
    "    word = input(\"say hello! \")\n",
    "    i+=1\n",
    "    if word == input_i:\n",
    "        break\n",
    "    if word != input_i and i > 5: #user have only 5 trials of input\n",
    "        break"
   ]
  },
  {
   "cell_type": "markdown",
   "id": "c47e4a78",
   "metadata": {},
   "source": [
    "### Task 4: Step by the Power of 2 in a python for loop (code)\n"
   ]
  },
  {
   "cell_type": "code",
   "execution_count": null,
   "id": "121b671d",
   "metadata": {},
   "outputs": [],
   "source": []
  },
  {
   "cell_type": "markdown",
   "id": "dcdeb9ef",
   "metadata": {},
   "source": [
    "### Task 5: Infinite for loop in python using for loop, without additional memory\n"
   ]
  },
  {
   "cell_type": "code",
   "execution_count": null,
   "id": "9670bf04",
   "metadata": {},
   "outputs": [],
   "source": []
  },
  {
   "cell_type": "code",
   "execution_count": null,
   "id": "c5b388f7",
   "metadata": {},
   "outputs": [],
   "source": []
  },
  {
   "cell_type": "code",
   "execution_count": null,
   "id": "13c5e1d9",
   "metadata": {},
   "outputs": [],
   "source": []
  },
  {
   "cell_type": "code",
   "execution_count": null,
   "id": "be853661",
   "metadata": {},
   "outputs": [],
   "source": []
  },
  {
   "cell_type": "code",
   "execution_count": null,
   "id": "e1bb98da",
   "metadata": {},
   "outputs": [],
   "source": []
  }
 ],
 "metadata": {
  "kernelspec": {
   "display_name": "Python 3",
   "language": "python",
   "name": "python3"
  },
  "language_info": {
   "codemirror_mode": {
    "name": "ipython",
    "version": 3
   },
   "file_extension": ".py",
   "mimetype": "text/x-python",
   "name": "python",
   "nbconvert_exporter": "python",
   "pygments_lexer": "ipython3",
   "version": "3.8.12"
  }
 },
 "nbformat": 4,
 "nbformat_minor": 5
}
