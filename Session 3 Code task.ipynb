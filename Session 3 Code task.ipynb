{
 "cells": [
  {
   "cell_type": "code",
   "execution_count": 45,
   "id": "9df6ee33",
   "metadata": {},
   "outputs": [],
   "source": [
    "import sys"
   ]
  },
  {
   "cell_type": "code",
   "execution_count": 47,
   "id": "7283800c",
   "metadata": {},
   "outputs": [
    {
     "name": "stdout",
     "output_type": "stream",
     "text": [
      "you have an error of type <class 'IndexError'>\n"
     ]
    }
   ],
   "source": [
    "l=[1,2,3,4]\n",
    "for i in l:\n",
    "    try:\n",
    "        print(l[5])\n",
    "        \n",
    "    except Exception as e:\n",
    "        print(\"you have an error of type\", sys.exc_info()[0])\n",
    "        break\n",
    "\n",
    "# or i can call __class__ using the \"e\" object (e.__class__)"
   ]
  },
  {
   "cell_type": "markdown",
   "id": "9900eb72",
   "metadata": {},
   "source": [
    "source: https://www.programiz.com/python-programming/exception-handling"
   ]
  },
  {
   "cell_type": "code",
   "execution_count": null,
   "id": "ad1b58c5",
   "metadata": {},
   "outputs": [],
   "source": []
  }
 ],
 "metadata": {
  "kernelspec": {
   "display_name": "Python 3",
   "language": "python",
   "name": "python3"
  },
  "language_info": {
   "codemirror_mode": {
    "name": "ipython",
    "version": 3
   },
   "file_extension": ".py",
   "mimetype": "text/x-python",
   "name": "python",
   "nbconvert_exporter": "python",
   "pygments_lexer": "ipython3",
   "version": "3.8.12"
  }
 },
 "nbformat": 4,
 "nbformat_minor": 5
}
